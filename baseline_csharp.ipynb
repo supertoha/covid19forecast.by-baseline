{
 "cells": [
  {
   "cell_type": "markdown",
   "metadata": {},
   "source": [
    "# Baseline для https://covid19forecast.by"
   ]
  },
  {
   "cell_type": "code",
   "execution_count": 44,
   "metadata": {},
   "outputs": [
    {
     "data": {
      "text/html": [
       "Installing package CsvHelper, version 15.0.5.done!"
      ]
     },
     "metadata": {},
     "output_type": "display_data"
    },
    {
     "data": {
      "text/html": [
       "Successfully added reference to package CsvHelper, version "
      ]
     },
     "metadata": {},
     "output_type": "display_data"
    },
    {
     "data": {
      "text/html": [
       "Installing package XPlot.Plotly, version 3.0.1.done!"
      ]
     },
     "metadata": {},
     "output_type": "display_data"
    },
    {
     "data": {
      "text/html": [
       "Successfully added reference to package XPlot.Plotly, version "
      ]
     },
     "metadata": {},
     "output_type": "display_data"
    }
   ],
   "source": [
    "// подключим библиотеки\n",
    "#r \"nuget:CsvHelper,15.0.5\"\n",
    "#r \"nuget:XPlot.Plotly, 3.0.1\"\n",
    "\n",
    "using System.Net;\n",
    "using System.Text;\n",
    "using System.Globalization;\n",
    "using XPlot.Plotly;\n",
    "using System.Data;\n",
    "using CsvHelper;\n",
    "using System.IO;\n",
    "using CsvHelper.Configuration.Attributes;"
   ]
  },
  {
   "cell_type": "code",
   "execution_count": 45,
   "metadata": {},
   "outputs": [],
   "source": [
    "// даты на которые строим прогноз\n",
    "var predictFrom = DateTime.Now.Date;\n",
    "var predictTo = new DateTime(2020,7,2);"
   ]
  },
  {
   "cell_type": "code",
   "execution_count": 52,
   "metadata": {
    "scrolled": true
   },
   "outputs": [
    {
     "data": {
      "text/html": [
       "<table><thead><tr><th><i>index</i></th><th>Date</th><th>Confirmed</th><th>Deaths</th><th>Recovered</th><th>Tests</th></tr></thead><tbody><tr><td>0</td><td>2020-06-04 00:00:00Z</td><td>45981</td><td>253</td><td>21162</td><td>585065</td></tr><tr><td>1</td><td>2020-06-03 00:00:00Z</td><td>45116</td><td>248</td><td>20171</td><td>573699</td></tr><tr><td>2</td><td>2020-06-02 00:00:00Z</td><td>44255</td><td>243</td><td>19195</td><td>562945</td></tr><tr><td>3</td><td>2020-06-01 00:00:00Z</td><td>43403</td><td>240</td><td>18776</td><td>553377</td></tr><tr><td>4</td><td>2020-05-31 00:00:00Z</td><td>42556</td><td>235</td><td>18514</td><td>541093</td></tr><tr><td>5</td><td>2020-05-30 00:00:00Z</td><td>41658</td><td>229</td><td>17964</td><td>526559</td></tr><tr><td>6</td><td>2020-05-29 00:00:00Z</td><td>40764</td><td>224</td><td>17390</td><td>512418</td></tr><tr><td>7</td><td>2020-05-28 00:00:00Z</td><td>39858</td><td>219</td><td>16660</td><td>499249</td></tr><tr><td>8</td><td>2020-05-27 00:00:00Z</td><td>38956</td><td>214</td><td>15923</td><td>485534</td></tr><tr><td>9</td><td>2020-05-26 00:00:00Z</td><td>38059</td><td>208</td><td>15086</td><td>472906</td></tr><tr><td>10</td><td>2020-05-25 00:00:00Z</td><td>37144</td><td>204</td><td>14449</td><td>463004</td></tr><tr><td>11</td><td>2020-05-24 00:00:00Z</td><td>36198</td><td>199</td><td>14155</td><td>450627</td></tr><tr><td>12</td><td>2020-05-23 00:00:00Z</td><td>35244</td><td>194</td><td>13528</td><td>434618</td></tr><tr><td>13</td><td>2020-05-22 00:00:00Z</td><td>34303</td><td>190</td><td>12833</td><td>419004</td></tr><tr><td>14</td><td>2020-05-21 00:00:00Z</td><td>33371</td><td>185</td><td>12057</td><td>403236</td></tr><tr><td>15</td><td>2020-05-20 00:00:00Z</td><td>32426</td><td>179</td><td>11415</td><td>387673</td></tr><tr><td>16</td><td>2020-05-19 00:00:00Z</td><td>31508</td><td>175</td><td>10620</td><td>375076</td></tr><tr><td>17</td><td>2020-05-18 00:00:00Z</td><td>30572</td><td>171</td><td>10130</td><td>364319</td></tr><tr><td>18</td><td>2020-05-17 00:00:00Z</td><td>29650</td><td>165</td><td>9932</td><td>350515</td></tr><tr><td>19</td><td>2020-05-16 00:00:00Z</td><td>28681</td><td>160</td><td>9498</td><td>335057</td></tr><tr><td>20</td><td>2020-05-15 00:00:00Z</td><td>27730</td><td>156</td><td>0</td><td>321705</td></tr><tr><td>21</td><td>2020-05-14 00:00:00Z</td><td>26772</td><td>151</td><td>0</td><td>308156</td></tr><tr><td>22</td><td>2020-05-13 00:00:00Z</td><td>25825</td><td>146</td><td>0</td><td>296380</td></tr><tr><td>23</td><td>2020-05-12 00:00:00Z</td><td>24873</td><td>142</td><td>0</td><td>284445</td></tr><tr><td>24</td><td>2020-05-11 00:00:00Z</td><td>23906</td><td>135</td><td>0</td><td>274060</td></tr><tr><td>25</td><td>2020-05-10 00:00:00Z</td><td>22973</td><td>131</td><td>0</td><td>263543</td></tr><tr><td>26</td><td>2020-05-09 00:00:00Z</td><td>22052</td><td>126</td><td>0</td><td>251771</td></tr><tr><td>27</td><td>2020-05-08 00:00:00Z</td><td>21101</td><td>121</td><td>0</td><td>240146</td></tr><tr><td>28</td><td>2020-05-07 00:00:00Z</td><td>20168</td><td>116</td><td>0</td><td>229466</td></tr><tr><td>29</td><td>2020-05-06 00:00:00Z</td><td>19255</td><td>112</td><td>0</td><td>220045</td></tr><tr><td>30</td><td>2020-05-05 00:00:00Z</td><td>18350</td><td>107</td><td>0</td><td>211369</td></tr><tr><td>31</td><td>2020-05-04 00:00:00Z</td><td>17489</td><td>103</td><td>0</td><td>211369</td></tr><tr><td>32</td><td>2020-05-03 00:00:00Z</td><td>16705</td><td>99</td><td>0</td><td>204239</td></tr><tr><td>33</td><td>2020-05-02 00:00:00Z</td><td>15828</td><td>97</td><td>0</td><td>195430</td></tr><tr><td>34</td><td>2020-05-01 00:00:00Z</td><td>14917</td><td>93</td><td>0</td><td>186262</td></tr><tr><td>35</td><td>2020-04-30 00:00:00Z</td><td>14027</td><td>89</td><td>0</td><td>176625</td></tr><tr><td>36</td><td>2020-04-29 00:00:00Z</td><td>13181</td><td>84</td><td>0</td><td>168986</td></tr><tr><td>37</td><td>2020-04-28 00:00:00Z</td><td>12208</td><td>79</td><td>0</td><td>161028</td></tr><tr><td>38</td><td>2020-04-27 00:00:00Z</td><td>11289</td><td>75</td><td>0</td><td>153845</td></tr><tr><td>39</td><td>2020-04-26 00:00:00Z</td><td>10463</td><td>72</td><td>0</td><td>147525</td></tr><tr><td>40</td><td>2020-04-25 00:00:00Z</td><td>9590</td><td>67</td><td>0</td><td>139295</td></tr><tr><td>41</td><td>2020-04-24 00:00:00Z</td><td>8773</td><td>63</td><td>0</td><td>130824</td></tr><tr><td>42</td><td>2020-04-23 00:00:00Z</td><td>8022</td><td>60</td><td>0</td><td>122543</td></tr><tr><td>43</td><td>2020-04-22 00:00:00Z</td><td>7281</td><td>58</td><td>0</td><td>114955</td></tr><tr><td>44</td><td>2020-04-21 00:00:00Z</td><td>6723</td><td>55</td><td>0</td><td>108545</td></tr><tr><td>45</td><td>2020-04-20 00:00:00Z</td><td>6264</td><td>51</td><td>0</td><td>102556</td></tr><tr><td>46</td><td>2020-04-19 00:00:00Z</td><td>4779</td><td>47</td><td>0</td><td>98231</td></tr><tr><td>47</td><td>2020-04-18 00:00:00Z</td><td>4779</td><td>45</td><td>0</td><td>92709</td></tr><tr><td>48</td><td>2020-04-17 00:00:00Z</td><td>4779</td><td>42</td><td>0</td><td>86813</td></tr><tr><td>49</td><td>2020-04-16 00:00:00Z</td><td>4204</td><td>40</td><td>0</td><td>81246</td></tr><tr><td>50</td><td>2020-04-15 00:00:00Z</td><td>3728</td><td>36</td><td>0</td><td>76198</td></tr><tr><td>51</td><td>2020-04-14 00:00:00Z</td><td>3281</td><td>33</td><td>0</td><td>71875</td></tr><tr><td>52</td><td>2020-04-13 00:00:00Z</td><td>2919</td><td>29</td><td>0</td><td>&lt;null&gt;</td></tr><tr><td>53</td><td>2020-04-12 00:00:00Z</td><td>2578</td><td>26</td><td>0</td><td>&lt;null&gt;</td></tr><tr><td>54</td><td>2020-04-11 00:00:00Z</td><td>2226</td><td>23</td><td>0</td><td>&lt;null&gt;</td></tr><tr><td>55</td><td>2020-04-10 00:00:00Z</td><td>1981</td><td>19</td><td>0</td><td>&lt;null&gt;</td></tr><tr><td>56</td><td>2020-04-09 00:00:00Z</td><td>1486</td><td>16</td><td>0</td><td>&lt;null&gt;</td></tr><tr><td>57</td><td>2020-04-08 00:00:00Z</td><td>1066</td><td>13</td><td>0</td><td>&lt;null&gt;</td></tr><tr><td>58</td><td>2020-04-07 00:00:00Z</td><td>861</td><td>13</td><td>0</td><td>&lt;null&gt;</td></tr><tr><td>59</td><td>2020-04-06 00:00:00Z</td><td>700</td><td>13</td><td>0</td><td>&lt;null&gt;</td></tr><tr><td>60</td><td>2020-04-05 00:00:00Z</td><td>562</td><td>8</td><td>0</td><td>&lt;null&gt;</td></tr><tr><td>61</td><td>2020-04-04 00:00:00Z</td><td>440</td><td>5</td><td>0</td><td>&lt;null&gt;</td></tr><tr><td>62</td><td>2020-04-03 00:00:00Z</td><td>351</td><td>4</td><td>0</td><td>&lt;null&gt;</td></tr><tr><td>63</td><td>2020-04-02 00:00:00Z</td><td>304</td><td>4</td><td>0</td><td>&lt;null&gt;</td></tr><tr><td>64</td><td>2020-04-01 00:00:00Z</td><td>163</td><td>2</td><td>0</td><td>&lt;null&gt;</td></tr><tr><td>65</td><td>2020-03-31 00:00:00Z</td><td>152</td><td>1</td><td>0</td><td>&lt;null&gt;</td></tr><tr><td>66</td><td>2020-03-30 00:00:00Z</td><td>152</td><td>0</td><td>0</td><td>&lt;null&gt;</td></tr><tr><td>67</td><td>2020-03-29 00:00:00Z</td><td>94</td><td>0</td><td>0</td><td>&lt;null&gt;</td></tr><tr><td>68</td><td>2020-03-28 00:00:00Z</td><td>94</td><td>0</td><td>0</td><td>&lt;null&gt;</td></tr><tr><td>69</td><td>2020-03-27 00:00:00Z</td><td>94</td><td>0</td><td>0</td><td>&lt;null&gt;</td></tr><tr><td>70</td><td>2020-03-26 00:00:00Z</td><td>86</td><td>0</td><td>0</td><td>&lt;null&gt;</td></tr><tr><td>71</td><td>2020-03-25 00:00:00Z</td><td>86</td><td>0</td><td>0</td><td>&lt;null&gt;</td></tr><tr><td>72</td><td>2020-03-24 00:00:00Z</td><td>81</td><td>0</td><td>0</td><td>&lt;null&gt;</td></tr><tr><td>73</td><td>2020-03-23 00:00:00Z</td><td>81</td><td>0</td><td>0</td><td>&lt;null&gt;</td></tr><tr><td>74</td><td>2020-03-22 00:00:00Z</td><td>76</td><td>0</td><td>0</td><td>&lt;null&gt;</td></tr><tr><td>75</td><td>2020-03-21 00:00:00Z</td><td>76</td><td>0</td><td>0</td><td>&lt;null&gt;</td></tr><tr><td>76</td><td>2020-03-20 00:00:00Z</td><td>69</td><td>0</td><td>0</td><td>&lt;null&gt;</td></tr><tr><td>77</td><td>2020-03-19 00:00:00Z</td><td>51</td><td>0</td><td>0</td><td>&lt;null&gt;</td></tr><tr><td>78</td><td>2020-03-18 00:00:00Z</td><td>51</td><td>0</td><td>0</td><td>&lt;null&gt;</td></tr><tr><td>79</td><td>2020-03-17 00:00:00Z</td><td>36</td><td>0</td><td>0</td><td>&lt;null&gt;</td></tr><tr><td>80</td><td>2020-03-16 00:00:00Z</td><td>36</td><td>0</td><td>0</td><td>&lt;null&gt;</td></tr><tr><td>81</td><td>2020-03-15 00:00:00Z</td><td>27</td><td>0</td><td>0</td><td>&lt;null&gt;</td></tr><tr><td>82</td><td>2020-03-14 00:00:00Z</td><td>27</td><td>0</td><td>0</td><td>&lt;null&gt;</td></tr><tr><td>83</td><td>2020-03-13 00:00:00Z</td><td>27</td><td>0</td><td>0</td><td>&lt;null&gt;</td></tr><tr><td>84</td><td>2020-03-12 00:00:00Z</td><td>12</td><td>0</td><td>0</td><td>&lt;null&gt;</td></tr><tr><td>85</td><td>2020-03-11 00:00:00Z</td><td>9</td><td>0</td><td>0</td><td>&lt;null&gt;</td></tr><tr><td>86</td><td>2020-03-10 00:00:00Z</td><td>9</td><td>0</td><td>0</td><td>&lt;null&gt;</td></tr><tr><td>87</td><td>2020-03-09 00:00:00Z</td><td>6</td><td>0</td><td>0</td><td>&lt;null&gt;</td></tr><tr><td>88</td><td>2020-03-08 00:00:00Z</td><td>6</td><td>0</td><td>0</td><td>&lt;null&gt;</td></tr><tr><td>89</td><td>2020-03-07 00:00:00Z</td><td>6</td><td>0</td><td>0</td><td>&lt;null&gt;</td></tr><tr><td>90</td><td>2020-03-06 00:00:00Z</td><td>6</td><td>0</td><td>0</td><td>&lt;null&gt;</td></tr><tr><td>91</td><td>2020-03-05 00:00:00Z</td><td>6</td><td>0</td><td>0</td><td>&lt;null&gt;</td></tr><tr><td>92</td><td>2020-03-04 00:00:00Z</td><td>6</td><td>0</td><td>0</td><td>&lt;null&gt;</td></tr><tr><td>93</td><td>2020-03-03 00:00:00Z</td><td>1</td><td>0</td><td>0</td><td>&lt;null&gt;</td></tr><tr><td>94</td><td>2020-03-02 00:00:00Z</td><td>1</td><td>0</td><td>0</td><td>&lt;null&gt;</td></tr><tr><td>95</td><td>2020-03-01 00:00:00Z</td><td>1</td><td>0</td><td>0</td><td>&lt;null&gt;</td></tr><tr><td>96</td><td>2020-02-29 00:00:00Z</td><td>1</td><td>0</td><td>0</td><td>&lt;null&gt;</td></tr><tr><td>97</td><td>2020-02-28 00:00:00Z</td><td>1</td><td>0</td><td>0</td><td>&lt;null&gt;</td></tr><tr><td>98</td><td>2020-02-27 00:00:00Z</td><td>0</td><td>0</td><td>0</td><td>&lt;null&gt;</td></tr><tr><td>99</td><td>2020-02-26 00:00:00Z</td><td>0</td><td>0</td><td>0</td><td>&lt;null&gt;</td></tr><tr><td>100</td><td>2020-02-25 00:00:00Z</td><td>0</td><td>0</td><td>0</td><td>&lt;null&gt;</td></tr><tr><td>101</td><td>2020-02-24 00:00:00Z</td><td>0</td><td>0</td><td>0</td><td>&lt;null&gt;</td></tr><tr><td>102</td><td>2020-02-23 00:00:00Z</td><td>0</td><td>0</td><td>0</td><td>&lt;null&gt;</td></tr><tr><td>103</td><td>2020-02-22 00:00:00Z</td><td>0</td><td>0</td><td>0</td><td>&lt;null&gt;</td></tr><tr><td>104</td><td>2020-02-21 00:00:00Z</td><td>0</td><td>0</td><td>0</td><td>&lt;null&gt;</td></tr><tr><td>105</td><td>2020-02-20 00:00:00Z</td><td>0</td><td>0</td><td>0</td><td>&lt;null&gt;</td></tr><tr><td>106</td><td>2020-02-19 00:00:00Z</td><td>0</td><td>0</td><td>0</td><td>&lt;null&gt;</td></tr><tr><td>107</td><td>2020-02-18 00:00:00Z</td><td>0</td><td>0</td><td>0</td><td>&lt;null&gt;</td></tr><tr><td>108</td><td>2020-02-17 00:00:00Z</td><td>0</td><td>0</td><td>0</td><td>&lt;null&gt;</td></tr><tr><td>109</td><td>2020-02-16 00:00:00Z</td><td>0</td><td>0</td><td>0</td><td>&lt;null&gt;</td></tr><tr><td>110</td><td>2020-02-15 00:00:00Z</td><td>0</td><td>0</td><td>0</td><td>&lt;null&gt;</td></tr><tr><td>111</td><td>2020-02-14 00:00:00Z</td><td>0</td><td>0</td><td>0</td><td>&lt;null&gt;</td></tr><tr><td>112</td><td>2020-02-13 00:00:00Z</td><td>0</td><td>0</td><td>0</td><td>&lt;null&gt;</td></tr><tr><td>113</td><td>2020-02-12 00:00:00Z</td><td>0</td><td>0</td><td>0</td><td>&lt;null&gt;</td></tr><tr><td>114</td><td>2020-02-11 00:00:00Z</td><td>0</td><td>0</td><td>0</td><td>&lt;null&gt;</td></tr><tr><td>115</td><td>2020-02-10 00:00:00Z</td><td>0</td><td>0</td><td>0</td><td>&lt;null&gt;</td></tr><tr><td>116</td><td>2020-02-09 00:00:00Z</td><td>0</td><td>0</td><td>0</td><td>&lt;null&gt;</td></tr><tr><td>117</td><td>2020-02-08 00:00:00Z</td><td>0</td><td>0</td><td>0</td><td>&lt;null&gt;</td></tr><tr><td>118</td><td>2020-02-07 00:00:00Z</td><td>0</td><td>0</td><td>0</td><td>&lt;null&gt;</td></tr><tr><td>119</td><td>2020-02-06 00:00:00Z</td><td>0</td><td>0</td><td>0</td><td>&lt;null&gt;</td></tr><tr><td>120</td><td>2020-02-05 00:00:00Z</td><td>0</td><td>0</td><td>0</td><td>&lt;null&gt;</td></tr><tr><td>121</td><td>2020-02-04 00:00:00Z</td><td>0</td><td>0</td><td>0</td><td>&lt;null&gt;</td></tr><tr><td>122</td><td>2020-02-03 00:00:00Z</td><td>0</td><td>0</td><td>0</td><td>&lt;null&gt;</td></tr><tr><td>123</td><td>2020-02-02 00:00:00Z</td><td>0</td><td>0</td><td>0</td><td>&lt;null&gt;</td></tr><tr><td>124</td><td>2020-02-01 00:00:00Z</td><td>0</td><td>0</td><td>0</td><td>&lt;null&gt;</td></tr><tr><td>125</td><td>2020-01-31 00:00:00Z</td><td>0</td><td>0</td><td>0</td><td>&lt;null&gt;</td></tr><tr><td>126</td><td>2020-01-30 00:00:00Z</td><td>0</td><td>0</td><td>0</td><td>&lt;null&gt;</td></tr><tr><td>127</td><td>2020-01-29 00:00:00Z</td><td>0</td><td>0</td><td>0</td><td>&lt;null&gt;</td></tr><tr><td>128</td><td>2020-01-28 00:00:00Z</td><td>0</td><td>0</td><td>0</td><td>&lt;null&gt;</td></tr><tr><td>129</td><td>2020-01-27 00:00:00Z</td><td>0</td><td>0</td><td>0</td><td>&lt;null&gt;</td></tr><tr><td>130</td><td>2020-01-26 00:00:00Z</td><td>0</td><td>0</td><td>0</td><td>&lt;null&gt;</td></tr><tr><td>131</td><td>2020-01-25 00:00:00Z</td><td>0</td><td>0</td><td>0</td><td>&lt;null&gt;</td></tr><tr><td>132</td><td>2020-01-24 00:00:00Z</td><td>0</td><td>0</td><td>0</td><td>&lt;null&gt;</td></tr><tr><td>133</td><td>2020-01-23 00:00:00Z</td><td>0</td><td>0</td><td>0</td><td>&lt;null&gt;</td></tr></tbody></table>"
      ]
     },
     "metadata": {},
     "output_type": "display_data"
    }
   ],
   "source": [
    "// загрузим статистику с https://covid19forecast.by\n",
    "\n",
    "// модель для данных\n",
    "public class Covid19StatDay\n",
    "{\n",
    "    [Name(\"date\")]\n",
    "    public DateTime Date {get;set;}\n",
    "    \n",
    "    [Name(\"confirmed\")]\n",
    "    public int Confirmed {get;set;}  \n",
    "    \n",
    "    [Name(\"deaths\")]    \n",
    "    public int Deaths {get;set;}\n",
    "    \n",
    "    [Name(\"recovered\")]\n",
    "    public int Recovered {get;set;}\n",
    "    \n",
    "    [Name(\"tests\")]\n",
    "    public int? Tests {get;set;}\n",
    "}\n",
    "\n",
    "var webClient = new WebClient();\n",
    "var statStr = webClient.DownloadString(\"https://covid19forecast.by/api/BelarusStat\");\n",
    "var stringReader = new StringReader(statStr.Replace(\" \", \"\"));\n",
    "\n",
    "var csv = new CsvReader(stringReader, CultureInfo.InvariantCulture);\n",
    "csv.Configuration.Delimiter = \",\";\n",
    "\n",
    "var covidData = csv.GetRecords<Covid19StatDay>().ToList();\n",
    "display(covidData);"
   ]
  },
  {
   "cell_type": "code",
   "execution_count": 47,
   "metadata": {},
   "outputs": [],
   "source": [
    "// построим линейную зависимость по двум известным точкам\n",
    "var daysToPerdict = (predictTo - predictFrom).TotalDays;\n",
    "var lastDays = covidData.OrderByDescending(x=>x.Date).Take(2);\n",
    "var confirmedRate = lastDays.First().Confirmed-lastDays.Last().Confirmed;\n",
    "var dethsRate = lastDays.First().Deaths-lastDays.Last().Deaths;\n",
    "var predictions = new List<Covid19StatDay>();\n",
    "for(int i=0;i<daysToPerdict;i++)\n",
    "{\n",
    "    var confirmedCases = lastDays.First().Confirmed + i*confirmedRate;\n",
    "    var dethsCases = lastDays.First().Deaths + i*dethsRate;\n",
    "    predictions.Add(new Covid19StatDay() { Date=lastDays.First().Date.AddDays(i), Confirmed=confirmedCases, Deaths=dethsCases });\n",
    "}"
   ]
  },
  {
   "cell_type": "code",
   "execution_count": 48,
   "metadata": {},
   "outputs": [
    {
     "data": {
      "text/html": [
       "<div id=\"884ab231-5d35-4dfb-a377-2fc0f90ad59b\" style=\"width: 900px; height: 500px;\"></div><script type=\"text/javascript\">\r\n",
       "\r\n",
       "var renderPlotly = function() {\r\n",
       "    var xplotRequire = requirejs.config({context:'xplot-2.0.0',paths:{plotly:'https://cdn.plot.ly/plotly-1.49.2.min'}});\r\n",
       "    xplotRequire(['plotly'], function(Plotly) {\r\n",
       "\n",
       "            var data = [{\"type\":\"scatter\",\"x\":[\"2020-06-04T00:00:00\",\"2020-06-03T00:00:00\",\"2020-06-02T00:00:00\",\"2020-06-01T00:00:00\",\"2020-05-31T00:00:00\",\"2020-05-30T00:00:00\",\"2020-05-29T00:00:00\",\"2020-05-28T00:00:00\",\"2020-05-27T00:00:00\",\"2020-05-26T00:00:00\",\"2020-05-25T00:00:00\",\"2020-05-24T00:00:00\",\"2020-05-23T00:00:00\",\"2020-05-22T00:00:00\",\"2020-05-21T00:00:00\",\"2020-05-20T00:00:00\",\"2020-05-19T00:00:00\",\"2020-05-18T00:00:00\",\"2020-05-17T00:00:00\",\"2020-05-16T00:00:00\",\"2020-05-15T00:00:00\",\"2020-05-14T00:00:00\",\"2020-05-13T00:00:00\",\"2020-05-12T00:00:00\",\"2020-05-11T00:00:00\",\"2020-05-10T00:00:00\",\"2020-05-09T00:00:00\",\"2020-05-08T00:00:00\",\"2020-05-07T00:00:00\",\"2020-05-06T00:00:00\",\"2020-05-05T00:00:00\",\"2020-05-04T00:00:00\",\"2020-05-03T00:00:00\",\"2020-05-02T00:00:00\",\"2020-05-01T00:00:00\",\"2020-04-30T00:00:00\",\"2020-04-29T00:00:00\",\"2020-04-28T00:00:00\",\"2020-04-27T00:00:00\",\"2020-04-26T00:00:00\",\"2020-04-25T00:00:00\",\"2020-04-24T00:00:00\",\"2020-04-23T00:00:00\",\"2020-04-22T00:00:00\",\"2020-04-21T00:00:00\",\"2020-04-20T00:00:00\",\"2020-04-19T00:00:00\",\"2020-04-18T00:00:00\",\"2020-04-17T00:00:00\",\"2020-04-16T00:00:00\",\"2020-04-15T00:00:00\",\"2020-04-14T00:00:00\",\"2020-04-13T00:00:00\",\"2020-04-12T00:00:00\",\"2020-04-11T00:00:00\",\"2020-04-10T00:00:00\",\"2020-04-09T00:00:00\",\"2020-04-08T00:00:00\",\"2020-04-07T00:00:00\",\"2020-04-06T00:00:00\",\"2020-04-05T00:00:00\",\"2020-04-04T00:00:00\",\"2020-04-03T00:00:00\",\"2020-04-02T00:00:00\",\"2020-04-01T00:00:00\",\"2020-03-31T00:00:00\",\"2020-03-30T00:00:00\",\"2020-03-29T00:00:00\",\"2020-03-28T00:00:00\",\"2020-03-27T00:00:00\",\"2020-03-26T00:00:00\",\"2020-03-25T00:00:00\",\"2020-03-24T00:00:00\",\"2020-03-23T00:00:00\",\"2020-03-22T00:00:00\",\"2020-03-21T00:00:00\",\"2020-03-20T00:00:00\",\"2020-03-19T00:00:00\",\"2020-03-18T00:00:00\",\"2020-03-17T00:00:00\",\"2020-03-16T00:00:00\",\"2020-03-15T00:00:00\",\"2020-03-14T00:00:00\",\"2020-03-13T00:00:00\",\"2020-03-12T00:00:00\",\"2020-03-11T00:00:00\",\"2020-03-10T00:00:00\",\"2020-03-09T00:00:00\",\"2020-03-08T00:00:00\",\"2020-03-07T00:00:00\",\"2020-03-06T00:00:00\",\"2020-03-05T00:00:00\",\"2020-03-04T00:00:00\",\"2020-03-03T00:00:00\",\"2020-03-02T00:00:00\",\"2020-03-01T00:00:00\",\"2020-02-29T00:00:00\",\"2020-02-28T00:00:00\",\"2020-02-27T00:00:00\",\"2020-02-26T00:00:00\",\"2020-02-25T00:00:00\",\"2020-02-24T00:00:00\",\"2020-02-23T00:00:00\",\"2020-02-22T00:00:00\",\"2020-02-21T00:00:00\",\"2020-02-20T00:00:00\",\"2020-02-19T00:00:00\",\"2020-02-18T00:00:00\",\"2020-02-17T00:00:00\",\"2020-02-16T00:00:00\",\"2020-02-15T00:00:00\",\"2020-02-14T00:00:00\",\"2020-02-13T00:00:00\",\"2020-02-12T00:00:00\",\"2020-02-11T00:00:00\",\"2020-02-10T00:00:00\",\"2020-02-09T00:00:00\",\"2020-02-08T00:00:00\",\"2020-02-07T00:00:00\",\"2020-02-06T00:00:00\",\"2020-02-05T00:00:00\",\"2020-02-04T00:00:00\",\"2020-02-03T00:00:00\",\"2020-02-02T00:00:00\",\"2020-02-01T00:00:00\",\"2020-01-31T00:00:00\",\"2020-01-30T00:00:00\",\"2020-01-29T00:00:00\",\"2020-01-28T00:00:00\",\"2020-01-27T00:00:00\",\"2020-01-26T00:00:00\",\"2020-01-25T00:00:00\",\"2020-01-24T00:00:00\",\"2020-01-23T00:00:00\"],\"y\":[45981,45116,44255,43403,42556,41658,40764,39858,38956,38059,37144,36198,35244,34303,33371,32426,31508,30572,29650,28681,27730,26772,25825,24873,23906,22973,22052,21101,20168,19255,18350,17489,16705,15828,14917,14027,13181,12208,11289,10463,9590,8773,8022,7281,6723,6264,4779,4779,4779,4204,3728,3281,2919,2578,2226,1981,1486,1066,861,700,562,440,351,304,163,152,152,94,94,94,86,86,81,81,76,76,69,51,51,36,36,27,27,27,12,9,9,6,6,6,6,6,6,1,1,1,1,1,0,0,0,0,0,0,0,0,0,0,0,0,0,0,0,0,0,0,0,0,0,0,0,0,0,0,0,0,0,0,0,0,0,0,0,0],\"name\":\"Подтвержденных случаев\"},{\"type\":\"scatter\",\"x\":[\"2020-06-04T00:00:00\",\"2020-06-05T00:00:00\",\"2020-06-06T00:00:00\",\"2020-06-07T00:00:00\",\"2020-06-08T00:00:00\",\"2020-06-09T00:00:00\",\"2020-06-10T00:00:00\",\"2020-06-11T00:00:00\",\"2020-06-12T00:00:00\",\"2020-06-13T00:00:00\",\"2020-06-14T00:00:00\",\"2020-06-15T00:00:00\",\"2020-06-16T00:00:00\",\"2020-06-17T00:00:00\",\"2020-06-18T00:00:00\",\"2020-06-19T00:00:00\",\"2020-06-20T00:00:00\",\"2020-06-21T00:00:00\",\"2020-06-22T00:00:00\",\"2020-06-23T00:00:00\",\"2020-06-24T00:00:00\",\"2020-06-25T00:00:00\",\"2020-06-26T00:00:00\",\"2020-06-27T00:00:00\",\"2020-06-28T00:00:00\",\"2020-06-29T00:00:00\",\"2020-06-30T00:00:00\",\"2020-07-01T00:00:00\"],\"y\":[45981,46846,47711,48576,49441,50306,51171,52036,52901,53766,54631,55496,56361,57226,58091,58956,59821,60686,61551,62416,63281,64146,65011,65876,66741,67606,68471,69336],\"name\":\"Прогнозируемая заболеваемость\"}];\n",
       "            var layout = \"\";\n",
       "            Plotly.newPlot('884ab231-5d35-4dfb-a377-2fc0f90ad59b', data, layout);\n",
       "        });\r\n",
       "};\r\n",
       "if ((typeof(requirejs) !==  typeof(Function)) || (typeof(requirejs.config) !== typeof(Function))) { \r\n",
       "    var script = document.createElement(\"script\"); \r\n",
       "    script.setAttribute(\"src\", \"https://cdnjs.cloudflare.com/ajax/libs/require.js/2.3.6/require.min.js\"); \r\n",
       "    script.onload = function(){\r\n",
       "        renderPlotly();\r\n",
       "    };\r\n",
       "    document.getElementsByTagName(\"head\")[0].appendChild(script); \r\n",
       "}\r\n",
       "else {\r\n",
       "    renderPlotly();\r\n",
       "}\r\n",
       "</script>"
      ]
     },
     "metadata": {},
     "output_type": "display_data"
    }
   ],
   "source": [
    "// график заболеваемост\n",
    "var confirmedCasesScatter = new Graph.Scatter(){x=covidData.Select(x=>x.Date), y=covidData.Select(x=>x.Confirmed), name=\"Подтвержденных случаев\"};\n",
    "var confirmedCasesPredictedScatter = new Graph.Scatter(){x=predictions.Select(x=>x.Date), y=predictions.Select(x=>x.Confirmed), name=\"Прогнозируемая заболеваемость\"};\n",
    "display(Chart.Plot(new [] {confirmedCasesScatter, confirmedCasesPredictedScatter}));"
   ]
  },
  {
   "cell_type": "code",
   "execution_count": 49,
   "metadata": {},
   "outputs": [
    {
     "data": {
      "text/html": [
       "<div id=\"07788764-4093-4676-a950-341edecfec72\" style=\"width: 900px; height: 500px;\"></div><script type=\"text/javascript\">\r\n",
       "\r\n",
       "var renderPlotly = function() {\r\n",
       "    var xplotRequire = requirejs.config({context:'xplot-2.0.0',paths:{plotly:'https://cdn.plot.ly/plotly-1.49.2.min'}});\r\n",
       "    xplotRequire(['plotly'], function(Plotly) {\r\n",
       "\n",
       "            var data = [{\"type\":\"scatter\",\"x\":[\"2020-06-04T00:00:00\",\"2020-06-03T00:00:00\",\"2020-06-02T00:00:00\",\"2020-06-01T00:00:00\",\"2020-05-31T00:00:00\",\"2020-05-30T00:00:00\",\"2020-05-29T00:00:00\",\"2020-05-28T00:00:00\",\"2020-05-27T00:00:00\",\"2020-05-26T00:00:00\",\"2020-05-25T00:00:00\",\"2020-05-24T00:00:00\",\"2020-05-23T00:00:00\",\"2020-05-22T00:00:00\",\"2020-05-21T00:00:00\",\"2020-05-20T00:00:00\",\"2020-05-19T00:00:00\",\"2020-05-18T00:00:00\",\"2020-05-17T00:00:00\",\"2020-05-16T00:00:00\",\"2020-05-15T00:00:00\",\"2020-05-14T00:00:00\",\"2020-05-13T00:00:00\",\"2020-05-12T00:00:00\",\"2020-05-11T00:00:00\",\"2020-05-10T00:00:00\",\"2020-05-09T00:00:00\",\"2020-05-08T00:00:00\",\"2020-05-07T00:00:00\",\"2020-05-06T00:00:00\",\"2020-05-05T00:00:00\",\"2020-05-04T00:00:00\",\"2020-05-03T00:00:00\",\"2020-05-02T00:00:00\",\"2020-05-01T00:00:00\",\"2020-04-30T00:00:00\",\"2020-04-29T00:00:00\",\"2020-04-28T00:00:00\",\"2020-04-27T00:00:00\",\"2020-04-26T00:00:00\",\"2020-04-25T00:00:00\",\"2020-04-24T00:00:00\",\"2020-04-23T00:00:00\",\"2020-04-22T00:00:00\",\"2020-04-21T00:00:00\",\"2020-04-20T00:00:00\",\"2020-04-19T00:00:00\",\"2020-04-18T00:00:00\",\"2020-04-17T00:00:00\",\"2020-04-16T00:00:00\",\"2020-04-15T00:00:00\",\"2020-04-14T00:00:00\",\"2020-04-13T00:00:00\",\"2020-04-12T00:00:00\",\"2020-04-11T00:00:00\",\"2020-04-10T00:00:00\",\"2020-04-09T00:00:00\",\"2020-04-08T00:00:00\",\"2020-04-07T00:00:00\",\"2020-04-06T00:00:00\",\"2020-04-05T00:00:00\",\"2020-04-04T00:00:00\",\"2020-04-03T00:00:00\",\"2020-04-02T00:00:00\",\"2020-04-01T00:00:00\",\"2020-03-31T00:00:00\",\"2020-03-30T00:00:00\",\"2020-03-29T00:00:00\",\"2020-03-28T00:00:00\",\"2020-03-27T00:00:00\",\"2020-03-26T00:00:00\",\"2020-03-25T00:00:00\",\"2020-03-24T00:00:00\",\"2020-03-23T00:00:00\",\"2020-03-22T00:00:00\",\"2020-03-21T00:00:00\",\"2020-03-20T00:00:00\",\"2020-03-19T00:00:00\",\"2020-03-18T00:00:00\",\"2020-03-17T00:00:00\",\"2020-03-16T00:00:00\",\"2020-03-15T00:00:00\",\"2020-03-14T00:00:00\",\"2020-03-13T00:00:00\",\"2020-03-12T00:00:00\",\"2020-03-11T00:00:00\",\"2020-03-10T00:00:00\",\"2020-03-09T00:00:00\",\"2020-03-08T00:00:00\",\"2020-03-07T00:00:00\",\"2020-03-06T00:00:00\",\"2020-03-05T00:00:00\",\"2020-03-04T00:00:00\",\"2020-03-03T00:00:00\",\"2020-03-02T00:00:00\",\"2020-03-01T00:00:00\",\"2020-02-29T00:00:00\",\"2020-02-28T00:00:00\",\"2020-02-27T00:00:00\",\"2020-02-26T00:00:00\",\"2020-02-25T00:00:00\",\"2020-02-24T00:00:00\",\"2020-02-23T00:00:00\",\"2020-02-22T00:00:00\",\"2020-02-21T00:00:00\",\"2020-02-20T00:00:00\",\"2020-02-19T00:00:00\",\"2020-02-18T00:00:00\",\"2020-02-17T00:00:00\",\"2020-02-16T00:00:00\",\"2020-02-15T00:00:00\",\"2020-02-14T00:00:00\",\"2020-02-13T00:00:00\",\"2020-02-12T00:00:00\",\"2020-02-11T00:00:00\",\"2020-02-10T00:00:00\",\"2020-02-09T00:00:00\",\"2020-02-08T00:00:00\",\"2020-02-07T00:00:00\",\"2020-02-06T00:00:00\",\"2020-02-05T00:00:00\",\"2020-02-04T00:00:00\",\"2020-02-03T00:00:00\",\"2020-02-02T00:00:00\",\"2020-02-01T00:00:00\",\"2020-01-31T00:00:00\",\"2020-01-30T00:00:00\",\"2020-01-29T00:00:00\",\"2020-01-28T00:00:00\",\"2020-01-27T00:00:00\",\"2020-01-26T00:00:00\",\"2020-01-25T00:00:00\",\"2020-01-24T00:00:00\",\"2020-01-23T00:00:00\"],\"y\":[253,248,243,240,235,229,224,219,214,208,204,199,194,190,185,179,175,171,165,160,156,151,146,142,135,131,126,121,116,112,107,103,99,97,93,89,84,79,75,72,67,63,60,58,55,51,47,45,42,40,36,33,29,26,23,19,16,13,13,13,8,5,4,4,2,1,0,0,0,0,0,0,0,0,0,0,0,0,0,0,0,0,0,0,0,0,0,0,0,0,0,0,0,0,0,0,0,0,0,0,0,0,0,0,0,0,0,0,0,0,0,0,0,0,0,0,0,0,0,0,0,0,0,0,0,0,0,0,0,0,0,0,0,0],\"name\":\"Умерло\"},{\"type\":\"scatter\",\"x\":[\"2020-06-04T00:00:00\",\"2020-06-05T00:00:00\",\"2020-06-06T00:00:00\",\"2020-06-07T00:00:00\",\"2020-06-08T00:00:00\",\"2020-06-09T00:00:00\",\"2020-06-10T00:00:00\",\"2020-06-11T00:00:00\",\"2020-06-12T00:00:00\",\"2020-06-13T00:00:00\",\"2020-06-14T00:00:00\",\"2020-06-15T00:00:00\",\"2020-06-16T00:00:00\",\"2020-06-17T00:00:00\",\"2020-06-18T00:00:00\",\"2020-06-19T00:00:00\",\"2020-06-20T00:00:00\",\"2020-06-21T00:00:00\",\"2020-06-22T00:00:00\",\"2020-06-23T00:00:00\",\"2020-06-24T00:00:00\",\"2020-06-25T00:00:00\",\"2020-06-26T00:00:00\",\"2020-06-27T00:00:00\",\"2020-06-28T00:00:00\",\"2020-06-29T00:00:00\",\"2020-06-30T00:00:00\",\"2020-07-01T00:00:00\"],\"y\":[253,258,263,268,273,278,283,288,293,298,303,308,313,318,323,328,333,338,343,348,353,358,363,368,373,378,383,388],\"name\":\"Прогнозируемая смертность\"}];\n",
       "            var layout = \"\";\n",
       "            Plotly.newPlot('07788764-4093-4676-a950-341edecfec72', data, layout);\n",
       "        });\r\n",
       "};\r\n",
       "if ((typeof(requirejs) !==  typeof(Function)) || (typeof(requirejs.config) !== typeof(Function))) { \r\n",
       "    var script = document.createElement(\"script\"); \r\n",
       "    script.setAttribute(\"src\", \"https://cdnjs.cloudflare.com/ajax/libs/require.js/2.3.6/require.min.js\"); \r\n",
       "    script.onload = function(){\r\n",
       "        renderPlotly();\r\n",
       "    };\r\n",
       "    document.getElementsByTagName(\"head\")[0].appendChild(script); \r\n",
       "}\r\n",
       "else {\r\n",
       "    renderPlotly();\r\n",
       "}\r\n",
       "</script>"
      ]
     },
     "metadata": {},
     "output_type": "display_data"
    }
   ],
   "source": [
    "// график смертности\n",
    "var dethsCasesScatter = new Graph.Scatter(){x=covidData.Select(x=>x.Date), y=covidData.Select(x=>x.Deaths), name=\"Умерло\"};\n",
    "var dethsCasesPredictedScatter = new Graph.Scatter(){x=predictions.Select(x=>x.Date), y=predictions.Select(x=>x.Deaths), name=\"Прогнозируемая смертность\"};\n",
    "display(Chart.Plot(new [] {dethsCasesScatter, dethsCasesPredictedScatter}));"
   ]
  },
  {
   "cell_type": "code",
   "execution_count": 55,
   "metadata": {
    "scrolled": true
   },
   "outputs": [
    {
     "data": {
      "text/plain": [
       "date,prediction_confirmed,prediction_deaths\n",
       "2020-06-04,45981,253\n",
       "2020-06-05,46846,258\n",
       "2020-06-06,47711,263\n",
       "2020-06-07,48576,268\n",
       "2020-06-08,49441,273\n",
       "2020-06-09,50306,278\n",
       "2020-06-10,51171,283\n",
       "2020-06-11,52036,288\n",
       "2020-06-12,52901,293\n",
       "2020-06-13,53766,298\n",
       "2020-06-14,54631,303\n",
       "2020-06-15,55496,308\n",
       "2020-06-16,56361,313\n",
       "2020-06-17,57226,318\n",
       "2020-06-18,58091,323\n",
       "2020-06-19,58956,328\n",
       "2020-06-20,59821,333\n",
       "2020-06-21,60686,338\n",
       "2020-06-22,61551,343\n",
       "2020-06-23,62416,348\n",
       "2020-06-24,63281,353\n",
       "2020-06-25,64146,358\n",
       "2020-06-26,65011,363\n",
       "2020-06-27,65876,368\n",
       "2020-06-28,66741,373\n",
       "2020-06-29,67606,378\n",
       "2020-06-30,68471,383\n",
       "2020-07-01,69336,388\n"
      ]
     },
     "metadata": {},
     "output_type": "display_data"
    }
   ],
   "source": [
    "// выгрузим прогноз в CSV \n",
    "var csvStringBuilder = new StringBuilder();\n",
    "csvStringBuilder.Append(\"date,prediction_confirmed,prediction_deaths\\n\");\n",
    "foreach(var prediction in predictions)\n",
    "{\n",
    "    csvStringBuilder.Append($\"{prediction.Date.ToString(\"yyyy-MM-dd\")},{prediction.Confirmed},{prediction.Deaths}\\n\");\n",
    "}\n",
    "display(csvStringBuilder.ToString());"
   ]
  },
  {
   "cell_type": "code",
   "execution_count": 56,
   "metadata": {},
   "outputs": [
    {
     "data": {
      "text/html": [
       "<a href='data:text/plain;base64,ZGF0ZSxwcmVkaWN0aW9uX2NvbmZpcm1lZCxwcmVkaWN0aW9uX2RlYXRocwoyMDIwLTA2LTA0LDQ1OTgxLDI1MwoyMDIwLTA2LTA1LDQ2ODQ2LDI1OAoyMDIwLTA2LTA2LDQ3NzExLDI2MwoyMDIwLTA2LTA3LDQ4NTc2LDI2OAoyMDIwLTA2LTA4LDQ5NDQxLDI3MwoyMDIwLTA2LTA5LDUwMzA2LDI3OAoyMDIwLTA2LTEwLDUxMTcxLDI4MwoyMDIwLTA2LTExLDUyMDM2LDI4OAoyMDIwLTA2LTEyLDUyOTAxLDI5MwoyMDIwLTA2LTEzLDUzNzY2LDI5OAoyMDIwLTA2LTE0LDU0NjMxLDMwMwoyMDIwLTA2LTE1LDU1NDk2LDMwOAoyMDIwLTA2LTE2LDU2MzYxLDMxMwoyMDIwLTA2LTE3LDU3MjI2LDMxOAoyMDIwLTA2LTE4LDU4MDkxLDMyMwoyMDIwLTA2LTE5LDU4OTU2LDMyOAoyMDIwLTA2LTIwLDU5ODIxLDMzMwoyMDIwLTA2LTIxLDYwNjg2LDMzOAoyMDIwLTA2LTIyLDYxNTUxLDM0MwoyMDIwLTA2LTIzLDYyNDE2LDM0OAoyMDIwLTA2LTI0LDYzMjgxLDM1MwoyMDIwLTA2LTI1LDY0MTQ2LDM1OAoyMDIwLTA2LTI2LDY1MDExLDM2MwoyMDIwLTA2LTI3LDY1ODc2LDM2OAoyMDIwLTA2LTI4LDY2NzQxLDM3MwoyMDIwLTA2LTI5LDY3NjA2LDM3OAoyMDIwLTA2LTMwLDY4NDcxLDM4MwoyMDIwLTA3LTAxLDY5MzM2LDM4OAo=' download='sample.csv' target='_blank'><h3>Скачать CSV файл прогноза<h3></a>"
      ]
     },
     "execution_count": 56,
     "metadata": {},
     "output_type": "execute_result"
    }
   ],
   "source": [
    "// сформируем ссылку для скачивания\n",
    "var base64String = Convert.ToBase64String(Encoding.UTF8.GetBytes(csvStringBuilder.ToString()));\n",
    "HTML($\"<a href='data:text/plain;base64,{base64String}' download='sample.csv' target='_blank'><h3>Скачать CSV файл прогноза<h3></a>\")"
   ]
  },
  {
   "cell_type": "code",
   "execution_count": null,
   "metadata": {},
   "outputs": [],
   "source": []
  }
 ],
 "metadata": {
  "kernelspec": {
   "display_name": ".NET (C#)",
   "language": "C#",
   "name": ".net-csharp"
  },
  "language_info": {
   "file_extension": ".cs",
   "mimetype": "text/x-csharp",
   "name": "C#",
   "pygments_lexer": "csharp",
   "version": "8.0"
  }
 },
 "nbformat": 4,
 "nbformat_minor": 4
}
